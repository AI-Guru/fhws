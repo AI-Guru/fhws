{
 "cells": [
  {
   "cell_type": "markdown",
   "metadata": {},
   "source": [
    "# Preprocess data for self driving.\n",
    "\n",
    "Steps:\n",
    "1. Load dataset from: https://www.kaggle.com/roydatascience/training-car\n",
    "2. Make sure you have the folder structure `training-car/self driving car training data`.\n",
    "2. Run this notebook."
   ]
  },
  {
   "cell_type": "code",
   "execution_count": null,
   "metadata": {},
   "outputs": [],
   "source": [
    "import cv2\n",
    "import os\n",
    "import pickle\n",
    "import csv\n",
    "import matplotlib.pyplot as plt\n",
    "import numpy as np\n",
    "from tqdm import tqdm\n",
    "import cv2\n",
    "import imageio"
   ]
  },
  {
   "cell_type": "markdown",
   "metadata": {},
   "source": [
    "## Read CSV."
   ]
  },
  {
   "cell_type": "code",
   "execution_count": null,
   "metadata": {},
   "outputs": [],
   "source": [
    "csv_path = \"training-car/self driving car training data/data/driving_log.csv\"\n",
    "images_path = \"training-car/self driving car training data/data/\"\n",
    "\n",
    "# Open CSV.\n",
    "csv_lines = []\n",
    "with open(csv_path, \"rt\") as file:\n",
    "    reader = csv.reader(file)\n",
    "    for csv_line in reader:\n",
    "        csv_lines.append(csv_line)\n",
    "    csv_headers = csv_lines.pop(0)\n",
    "print(csv_headers)  \n",
    "print(csv_lines[0])"
   ]
  },
  {
   "cell_type": "markdown",
   "metadata": {},
   "source": [
    "# Method for processing data."
   ]
  },
  {
   "cell_type": "code",
   "execution_count": null,
   "metadata": {},
   "outputs": [],
   "source": [
    "def get_data(csv_lines, preprocess):\n",
    "    \n",
    "    # Get the data.\n",
    "    delta = 0.2\n",
    "    images = []\n",
    "    targets = []\n",
    "    for line_index, line in enumerate(tqdm(csv_lines)):\n",
    "        for image_index in range(3):\n",
    "            \n",
    "            # Retrieve and preprocess the image.\n",
    "            image_path = line[image_index]\n",
    "            image_path = os.path.join(images_path, \"IMG\" + (image_path.split(\"IMG\")[1]).strip())\n",
    "            image = cv2.imread(image_path, cv2.IMREAD_COLOR)\n",
    "            image = cv2.cvtColor(image, cv2.COLOR_BGR2RGB)\n",
    "            \n",
    "            # Preprocessing yes or no.\n",
    "            if preprocess == True:\n",
    "                image = cv2.cvtColor(image, cv2.COLOR_RGB2HSV)\n",
    "                image = image[:, :, 1]\n",
    "                image = cv2.resize(image, (40, 40))\n",
    "            images.append(image)\n",
    "            \n",
    "            # Get the target.\n",
    "            target = float(line[3])\n",
    "            if image_index == 1:\n",
    "                target += delta\n",
    "            elif image_index == 2:\n",
    "                target -= delta\n",
    "            targets.append(target)\n",
    "       \n",
    "    # Return numpy arrays.\n",
    "    images = np.array(images).astype(\"float32\")\n",
    "    targets = np.array(targets).astype(\"float32\")\n",
    "    return images, targets"
   ]
  },
  {
   "cell_type": "markdown",
   "metadata": {},
   "source": [
    "## Create an unprocessed dataset.\n",
    "Note: This is not intended for training."
   ]
  },
  {
   "cell_type": "code",
   "execution_count": null,
   "metadata": {},
   "outputs": [],
   "source": [
    "random_csv_lines = csv_lines[::]\n",
    "np.random.shuffle(random_csv_lines)\n",
    "random_csv_lines = random_csv_lines[0:100]\n",
    "\n",
    "images, targets = get_data(random_csv_lines, preprocess=False)\n",
    "print(images.shape)\n",
    "print(targets.shape)\n",
    "\n",
    "# Save pickle file.\n",
    "with open(\"training-car-unprocessed.p\", \"wb\") as file:\n",
    "    pickle.dump((images, targets), file, protocol=4)"
   ]
  },
  {
   "cell_type": "markdown",
   "metadata": {},
   "source": [
    "## Create preprocessed dataset."
   ]
  },
  {
   "cell_type": "code",
   "execution_count": null,
   "metadata": {},
   "outputs": [],
   "source": [
    "# Get images and labels.\n",
    "images, targets = get_data(csv_lines, preprocess=True)\n",
    "print(images.shape)\n",
    "print(targets.shape)\n",
    "\n",
    "# Save pickle file.\n",
    "with open(\"training-car.p\", \"wb\") as file:\n",
    "    pickle.dump((images, targets), file, protocol=4)"
   ]
  },
  {
   "cell_type": "markdown",
   "metadata": {},
   "source": [
    "# Create an animated GIF."
   ]
  },
  {
   "cell_type": "code",
   "execution_count": null,
   "metadata": {},
   "outputs": [],
   "source": [
    "gif_path = \"demo.gif\"\n",
    "duration = 0.1\n",
    "image_number = 400\n",
    "\n",
    "images, targets = get_data(csv_lines[:image_number], preprocess=False)\n",
    "\n",
    "font = cv2.FONT_HERSHEY_SIMPLEX\n",
    "\n",
    "with imageio.get_writer(gif_path, mode='I', duration=duration) as writer:\n",
    "\n",
    "    for i in tqdm(range(0, image_number, 3)):\n",
    "        image = images[i].astype(\"uint8\")\n",
    "        target = targets[i]\n",
    "        image = cv2.resize(image, (400, 300), interpolation=cv2.INTER_NEAREST)\n",
    "        text = \"Steering: {:0.2f}\".format(target)\n",
    "        cv2.putText(image, text, (10, 25), font, 1, (255, 255, 255), 2) \n",
    "\n",
    "        writer.append_data(image)\n",
    "\n",
    "print(\"Done.\")"
   ]
  },
  {
   "cell_type": "code",
   "execution_count": null,
   "metadata": {},
   "outputs": [],
   "source": []
  }
 ],
 "metadata": {
  "kernelspec": {
   "display_name": "Python 3",
   "language": "python",
   "name": "python3"
  },
  "language_info": {
   "codemirror_mode": {
    "name": "ipython",
    "version": 3
   },
   "file_extension": ".py",
   "mimetype": "text/x-python",
   "name": "python",
   "nbconvert_exporter": "python",
   "pygments_lexer": "ipython3",
   "version": "3.7.6"
  }
 },
 "nbformat": 4,
 "nbformat_minor": 4
}
